{
 "cells": [
  {
   "cell_type": "markdown",
   "id": "2edb41e9",
   "metadata": {},
   "source": [
    "writing the urdu article using ngrams (1 grams to 5 grams). So, in short your output must be of 5 paragraphs, the first one is generated using unigram, second one is generated using bigram and so on.\n",
    "\n",
    "Input: Your input is the seed sentence. E.g. first 3 to 4 words of the paragraph.\n",
    "\n",
    "Output: Your output is the consist of 5 paragraphs for each n gram, each of 200 words.\n",
    "\n",
    "You have to make N-gram model using the provided dataset. Dataset can be downloaded from  https://www.kaggle.com/datasets/saurabhshahane/urdu-news-dataset \n",
    "\n",
    "I used news text column"
   ]
  },
  {
   "cell_type": "code",
   "execution_count": null,
   "id": "5386503a",
   "metadata": {},
   "outputs": [],
   "source": [
    "\n",
    "import pandas as  pd\n",
    "import numpy as np\n",
    "df=pd.read_csv(\"urdu-news-dataset-1M.csv\", usecols = ['News Text'],dtype=str, low_memory = False)"
   ]
  },
  {
   "cell_type": "code",
   "execution_count": null,
   "id": "10003b97",
   "metadata": {},
   "outputs": [],
   "source": [
    "df"
   ]
  },
  {
   "cell_type": "code",
   "execution_count": null,
   "id": "b4c9b38a",
   "metadata": {},
   "outputs": [],
   "source": [
    "a1=df.iloc[::1]['News Text'].values.astype(str)\n"
   ]
  },
  {
   "cell_type": "code",
   "execution_count": null,
   "id": "9d03cd16",
   "metadata": {},
   "outputs": [],
   "source": [
    "import re\n",
    "a1=\" \".join(a1)\n",
    "tokens = [token for token in a1.split(\" \") if token != \"\"]    \n",
    "tokens"
   ]
  },
  {
   "cell_type": "markdown",
   "id": "63423b50",
   "metadata": {},
   "source": [
    "# Unigram"
   ]
  },
  {
   "cell_type": "code",
   "execution_count": null,
   "id": "fd66ae2e",
   "metadata": {},
   "outputs": [],
   "source": [
    "from statistics import mode\n",
    "\n",
    "prev=\"\"\n",
    "predict=input(\"enter : \")\n",
    "options=[]\n",
    "para=predict\n",
    "count=0\n",
    "k=0\n",
    "#for i in unigram:\n",
    "        \n",
    "#        if predict in i:\n",
    "#        options.append(i+1)#first nxt\n",
    "while len(para)<=200:\n",
    "    for i,w in enumerate(tokens):\n",
    "        if w == predict:\n",
    "            # next word\n",
    "            options.append(tokens[i+1])\n",
    "            \n",
    "    freq=mode(options)\n",
    "    \n",
    "#    print(freq)\n",
    "    if prev!=freq:\n",
    "        predict=freq\n",
    "        para=para+\" \"+freq\n",
    "        prev=freq\n",
    "        options=[]"
   ]
  },
  {
   "cell_type": "code",
   "execution_count": null,
   "id": "564c4ae7",
   "metadata": {},
   "outputs": [],
   "source": [
    "para"
   ]
  },
  {
   "cell_type": "markdown",
   "id": "468e7e59",
   "metadata": {},
   "source": [
    "# Bigram"
   ]
  },
  {
   "cell_type": "code",
   "execution_count": null,
   "id": "47f9a268",
   "metadata": {},
   "outputs": [],
   "source": [
    "from nltk.util import ngrams\n",
    "bigram = list(ngrams(tokens, 2))\n",
    "l=len(bigram)\n",
    "options=[]\n",
    "count=0\n",
    "predict=input(\"enter : \")\n",
    "para2=predict\n",
    "prev=\"\"\n",
    "k=0\n",
    "while len(para2)<=200:\n",
    "    for i in range(0,l):\n",
    "        for j in range(0,2):\n",
    "\n",
    "            if bigram[i][j]==predict and j!=1:\n",
    "\n",
    "                options.append(bigram[i][j+1] )#first nxt\n",
    "    \n",
    "    freq=mode(options)\n",
    "    \n",
    "#    print(freq)\n",
    "    if prev!=freq:\n",
    "        predict=freq\n",
    "        para2=para2+\" \"+freq\n",
    "        prev=freq\n",
    "        options=[]"
   ]
  },
  {
   "cell_type": "code",
   "execution_count": null,
   "id": "cd36891e",
   "metadata": {},
   "outputs": [],
   "source": [
    "para2"
   ]
  },
  {
   "cell_type": "markdown",
   "id": "0b1dedde",
   "metadata": {},
   "source": [
    "# Trigram"
   ]
  },
  {
   "cell_type": "code",
   "execution_count": null,
   "id": "82582410",
   "metadata": {},
   "outputs": [],
   "source": [
    "trigram = list(ngrams(tokens, 3))\n",
    "l=len(trigram)\n",
    "options=[]\n",
    "count=0\n",
    "predict=input(\"enter : \")\n",
    "para3=predict\n",
    "prev=\"\"\n",
    "k=0\n",
    "while len(para3)<=200:\n",
    "    for i in range(0,l):\n",
    "        for j in range(0,3):\n",
    "\n",
    "            if trigram[i][j]==predict and j!=2:\n",
    "\n",
    "                options.append(trigram[i][j+1] )#first nxt\n",
    "    \n",
    "    freq=mode(options)\n",
    "    \n",
    "#    print(freq)\n",
    "    if prev!=freq:\n",
    "        predict=freq\n",
    "        para3=para3+\" \"+freq\n",
    "        prev=freq\n",
    "        options=[]"
   ]
  },
  {
   "cell_type": "code",
   "execution_count": null,
   "id": "fac7face",
   "metadata": {},
   "outputs": [],
   "source": [
    "para3"
   ]
  },
  {
   "cell_type": "markdown",
   "id": "351cf047",
   "metadata": {},
   "source": [
    "# 4-gram"
   ]
  },
  {
   "cell_type": "code",
   "execution_count": null,
   "id": "f6daf7b4",
   "metadata": {},
   "outputs": [],
   "source": [
    "tetragram = list(ngrams(tokens, 4))\n",
    "tetragram"
   ]
  },
  {
   "cell_type": "code",
   "execution_count": null,
   "id": "ae1ae41f",
   "metadata": {},
   "outputs": [],
   "source": [
    "l=len(tetragram)\n",
    "options=[]\n",
    "count=0\n",
    "predict=input(\"enter : \")\n",
    "para4=predict\n",
    "prev=\"\"\n",
    "k=0\n",
    "while len(para4)<=200:\n",
    "    for i in range(0,l):\n",
    "        for j in range(0,4):\n",
    "\n",
    "            if tetragram[i][j]==predict and j!=3:\n",
    "\n",
    "                options.append(tetragram[i][j+1] )#first nxt\n",
    "    \n",
    "    freq=mode(options)\n",
    "    \n",
    "#    print(freq)\n",
    "    if prev!=freq:\n",
    "        predict=freq\n",
    "        para4=para4+\" \"+freq\n",
    "        prev=freq\n",
    "        options=[]\n",
    "        print(para4)"
   ]
  },
  {
   "cell_type": "markdown",
   "id": "c7c992e2",
   "metadata": {},
   "source": [
    "# 5-gram "
   ]
  },
  {
   "cell_type": "code",
   "execution_count": null,
   "id": "6976d657",
   "metadata": {},
   "outputs": [],
   "source": [
    "pentagram = list(ngrams(tokens, 5))"
   ]
  },
  {
   "cell_type": "code",
   "execution_count": null,
   "id": "9842525a",
   "metadata": {},
   "outputs": [],
   "source": [
    "l=len(pentagram)\n",
    "options=[]\n",
    "count=0\n",
    "predict=input(\"enter : \")\n",
    "para5=predict\n",
    "prev=\"\"\n",
    "k=0\n",
    "while len(para5)<=200:\n",
    "    for i in range(0,l):\n",
    "        for j in range(0,5):\n",
    "\n",
    "            if tetragram[i][j]==predict and j!=4:\n",
    "\n",
    "                options.append(tetragram[i][j+1] )#first nxt\n",
    "    \n",
    "    freq=mode(options)\n",
    "    \n",
    "#    print(freq)\n",
    "    if prev!=freq:\n",
    "        predict=freq\n",
    "        para5=para5+\" \"+freq\n",
    "        prev=freq\n",
    "        options=[]\n",
    "        print(para5)"
   ]
  },
  {
   "cell_type": "code",
   "execution_count": null,
   "id": "2adf669b",
   "metadata": {},
   "outputs": [],
   "source": [
    "para5"
   ]
  }
 ],
 "metadata": {
  "kernelspec": {
   "display_name": "Python 3 (ipykernel)",
   "language": "python",
   "name": "python3"
  },
  "language_info": {
   "codemirror_mode": {
    "name": "ipython",
    "version": 3
   },
   "file_extension": ".py",
   "mimetype": "text/x-python",
   "name": "python",
   "nbconvert_exporter": "python",
   "pygments_lexer": "ipython3",
   "version": "3.9.12"
  }
 },
 "nbformat": 4,
 "nbformat_minor": 5
}
